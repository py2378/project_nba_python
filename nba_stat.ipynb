{
 "cells": [
  {
   "cell_type": "markdown",
   "metadata": {},
   "source": [
    "# NBA Python project"
   ]
  },
  {
   "cell_type": "markdown",
   "metadata": {},
   "source": [
    "<b style=\"color:red\">\n",
    "    <br>\n",
    "    Nicolas BOUILLET<br><br>\n",
    "    Constance DECROOCQ<br><br>\n",
    "    Arthur POURRIER<br><br>\n",
    "    Emmy VANDEVILLE\n",
    "</b>"
   ]
  },
  {
   "cell_type": "markdown",
   "metadata": {},
   "source": [
    "## Summary of the functionalities"
   ]
  },
  {
   "cell_type": "markdown",
   "metadata": {},
   "source": [
    "1. Scrap players and teams\n",
    "2. Boxplot of the 3 points percentage in function of the height\n",
    "3. Plot percentage of wins in function of points of teams\n",
    "4. Histogram of the number of turnovers\n",
    "5. Plot of the free throw percentage in function of the experience of a player\n",
    "6. Correlation's heatmap of the player statistics\n",
    "7. Predict the free throw percentage of a player with a given experience"
   ]
  },
  {
   "cell_type": "markdown",
   "metadata": {},
   "source": [
    "## Library"
   ]
  },
  {
   "cell_type": "code",
   "execution_count": 2,
   "metadata": {},
   "outputs": [],
   "source": [
    "from selenium.webdriver.common.by import By\n",
    "from selenium.webdriver.chrome.options import Options\n",
    "\n",
    "from selenium import webdriver\n",
    "from bs4 import BeautifulSoup\n",
    "from enum import Enum\n",
    "import time\n",
    "import csv\n",
    "\n",
    "import numpy as np\n",
    "import pandas as pd\n",
    "import matplotlib.pyplot as plt\n",
    "import seaborn as sns\n",
    "\n",
    "from sklearn import linear_model\n",
    "from sklearn.preprocessing import PolynomialFeatures\n",
    "from sklearn.pipeline import make_pipeline\n",
    "from sklearn.linear_model import Ridge"
   ]
  },
  {
   "cell_type": "markdown",
   "metadata": {},
   "source": [
    "## Scraping"
   ]
  },
  {
   "cell_type": "markdown",
   "metadata": {},
   "source": [
    "We chose to focus on the 2021/2022 statistics as they are the more recent values and it simplifies the storage since there is only one year to collect and store.\n",
    "\n",
    "All of the data is stored in a csv file."
   ]
  },
  {
   "cell_type": "markdown",
   "metadata": {},
   "source": [
    "### Player scrap"
   ]
  },
  {
   "cell_type": "markdown",
   "metadata": {},
   "source": [
    " We scraped from this page : https://www.nba.com/players"
   ]
  },
  {
   "cell_type": "markdown",
   "metadata": {},
   "source": [
    "We chose to scrap about the player :\n",
    "- the number of games played\n",
    "- the points he made\n",
    "- the percentage of field goals, 3 points and free throw to see if try to make goals\n",
    "- the average number of rebounds, assists, turnovers, steals and blocks as they are the main actions in a game"
   ]
  },
  {
   "cell_type": "code",
   "execution_count": 4,
   "metadata": {
    "pycharm": {
     "name": "#%%from selenium import webdriver\n"
    }
   },
   "outputs": [
    {
     "ename": "NoSuchElementException",
     "evalue": "Message: no such element: Unable to locate element: {\"method\":\"css selector\",\"selector\":\".nba-stat-table__overflow\"}\n  (Session info: headless chrome=96.0.4664.110)\nStacktrace:\nBacktrace:\n\tOrdinal0 [0x00E86903+2517251]\n\tOrdinal0 [0x00E1F8E1+2095329]\n\tOrdinal0 [0x00D22848+1058888]\n\tOrdinal0 [0x00D4D448+1233992]\n\tOrdinal0 [0x00D4D63B+1234491]\n\tOrdinal0 [0x00D77812+1406994]\n\tOrdinal0 [0x00D6650A+1336586]\n\tOrdinal0 [0x00D75BBF+1399743]\n\tOrdinal0 [0x00D6639B+1336219]\n\tOrdinal0 [0x00D427A7+1189799]\n\tOrdinal0 [0x00D43609+1193481]\n\tGetHandleVerifier [0x01015904+1577972]\n\tGetHandleVerifier [0x010C0B97+2279047]\n\tGetHandleVerifier [0x00F16D09+534521]\n\tGetHandleVerifier [0x00F15DB9+530601]\n\tOrdinal0 [0x00E24FF9+2117625]\n\tOrdinal0 [0x00E298A8+2136232]\n\tOrdinal0 [0x00E299E2+2136546]\n\tOrdinal0 [0x00E33541+2176321]\n\tBaseThreadInitThunk [0x7592FA29+25]\n\tRtlGetAppContainerNamedObjectPath [0x77AA7A9E+286]\n\tRtlGetAppContainerNamedObjectPath [0x77AA7A6E+238]\n",
     "output_type": "error",
     "traceback": [
      "\u001B[1;31m---------------------------------------------------------------------------\u001B[0m",
      "\u001B[1;31mNoSuchElementException\u001B[0m                    Traceback (most recent call last)",
      "\u001B[1;32m~\\AppData\\Local\\Temp/ipykernel_17048/486305931.py\u001B[0m in \u001B[0;36m<module>\u001B[1;34m\u001B[0m\n\u001B[0;32m     11\u001B[0m \u001B[0mbutton\u001B[0m\u001B[1;33m.\u001B[0m\u001B[0mclick\u001B[0m\u001B[1;33m(\u001B[0m\u001B[1;33m)\u001B[0m\u001B[1;33m\u001B[0m\u001B[1;33m\u001B[0m\u001B[0m\n\u001B[0;32m     12\u001B[0m \u001B[1;31m# get tab element\u001B[0m\u001B[1;33m\u001B[0m\u001B[1;33m\u001B[0m\u001B[1;33m\u001B[0m\u001B[0m\n\u001B[1;32m---> 13\u001B[1;33m \u001B[0mplayer\u001B[0m \u001B[1;33m=\u001B[0m \u001B[0mbrowser\u001B[0m\u001B[1;33m.\u001B[0m\u001B[0mfind_element\u001B[0m\u001B[1;33m(\u001B[0m\u001B[0mBy\u001B[0m\u001B[1;33m.\u001B[0m\u001B[0mCLASS_NAME\u001B[0m\u001B[1;33m,\u001B[0m \u001B[1;34m'nba-stat-table__overflow'\u001B[0m\u001B[1;33m)\u001B[0m\u001B[1;33m\u001B[0m\u001B[1;33m\u001B[0m\u001B[0m\n\u001B[0m\u001B[0;32m     14\u001B[0m \u001B[1;31m# Traditional : GP, PTS, FG%, 3P%, FT%, REB, AST, TOV, STL, BLK\u001B[0m\u001B[1;33m\u001B[0m\u001B[1;33m\u001B[0m\u001B[1;33m\u001B[0m\u001B[0m\n\u001B[0;32m     15\u001B[0m \u001B[0mdata\u001B[0m \u001B[1;33m=\u001B[0m \u001B[1;33m[\u001B[0m\u001B[1;33m]\u001B[0m\u001B[1;33m\u001B[0m\u001B[1;33m\u001B[0m\u001B[0m\n",
      "\u001B[1;32m~\\anaconda3\\lib\\site-packages\\selenium\\webdriver\\remote\\webdriver.py\u001B[0m in \u001B[0;36mfind_element\u001B[1;34m(self, by, value)\u001B[0m\n\u001B[0;32m   1242\u001B[0m             \u001B[0mvalue\u001B[0m \u001B[1;33m=\u001B[0m \u001B[1;34m'[name=\"%s\"]'\u001B[0m \u001B[1;33m%\u001B[0m \u001B[0mvalue\u001B[0m\u001B[1;33m\u001B[0m\u001B[1;33m\u001B[0m\u001B[0m\n\u001B[0;32m   1243\u001B[0m \u001B[1;33m\u001B[0m\u001B[0m\n\u001B[1;32m-> 1244\u001B[1;33m         return self.execute(Command.FIND_ELEMENT, {\n\u001B[0m\u001B[0;32m   1245\u001B[0m             \u001B[1;34m'using'\u001B[0m\u001B[1;33m:\u001B[0m \u001B[0mby\u001B[0m\u001B[1;33m,\u001B[0m\u001B[1;33m\u001B[0m\u001B[1;33m\u001B[0m\u001B[0m\n\u001B[0;32m   1246\u001B[0m             'value': value})['value']\n",
      "\u001B[1;32m~\\anaconda3\\lib\\site-packages\\selenium\\webdriver\\remote\\webdriver.py\u001B[0m in \u001B[0;36mexecute\u001B[1;34m(self, driver_command, params)\u001B[0m\n\u001B[0;32m    422\u001B[0m         \u001B[0mresponse\u001B[0m \u001B[1;33m=\u001B[0m \u001B[0mself\u001B[0m\u001B[1;33m.\u001B[0m\u001B[0mcommand_executor\u001B[0m\u001B[1;33m.\u001B[0m\u001B[0mexecute\u001B[0m\u001B[1;33m(\u001B[0m\u001B[0mdriver_command\u001B[0m\u001B[1;33m,\u001B[0m \u001B[0mparams\u001B[0m\u001B[1;33m)\u001B[0m\u001B[1;33m\u001B[0m\u001B[1;33m\u001B[0m\u001B[0m\n\u001B[0;32m    423\u001B[0m         \u001B[1;32mif\u001B[0m \u001B[0mresponse\u001B[0m\u001B[1;33m:\u001B[0m\u001B[1;33m\u001B[0m\u001B[1;33m\u001B[0m\u001B[0m\n\u001B[1;32m--> 424\u001B[1;33m             \u001B[0mself\u001B[0m\u001B[1;33m.\u001B[0m\u001B[0merror_handler\u001B[0m\u001B[1;33m.\u001B[0m\u001B[0mcheck_response\u001B[0m\u001B[1;33m(\u001B[0m\u001B[0mresponse\u001B[0m\u001B[1;33m)\u001B[0m\u001B[1;33m\u001B[0m\u001B[1;33m\u001B[0m\u001B[0m\n\u001B[0m\u001B[0;32m    425\u001B[0m             response['value'] = self._unwrap_value(\n\u001B[0;32m    426\u001B[0m                 response.get('value', None))\n",
      "\u001B[1;32m~\\anaconda3\\lib\\site-packages\\selenium\\webdriver\\remote\\errorhandler.py\u001B[0m in \u001B[0;36mcheck_response\u001B[1;34m(self, response)\u001B[0m\n\u001B[0;32m    245\u001B[0m                 \u001B[0malert_text\u001B[0m \u001B[1;33m=\u001B[0m \u001B[0mvalue\u001B[0m\u001B[1;33m[\u001B[0m\u001B[1;34m'alert'\u001B[0m\u001B[1;33m]\u001B[0m\u001B[1;33m.\u001B[0m\u001B[0mget\u001B[0m\u001B[1;33m(\u001B[0m\u001B[1;34m'text'\u001B[0m\u001B[1;33m)\u001B[0m\u001B[1;33m\u001B[0m\u001B[1;33m\u001B[0m\u001B[0m\n\u001B[0;32m    246\u001B[0m             \u001B[1;32mraise\u001B[0m \u001B[0mexception_class\u001B[0m\u001B[1;33m(\u001B[0m\u001B[0mmessage\u001B[0m\u001B[1;33m,\u001B[0m \u001B[0mscreen\u001B[0m\u001B[1;33m,\u001B[0m \u001B[0mstacktrace\u001B[0m\u001B[1;33m,\u001B[0m \u001B[0malert_text\u001B[0m\u001B[1;33m)\u001B[0m  \u001B[1;31m# type: ignore[call-arg]  # mypy is not smart enough here\u001B[0m\u001B[1;33m\u001B[0m\u001B[1;33m\u001B[0m\u001B[0m\n\u001B[1;32m--> 247\u001B[1;33m         \u001B[1;32mraise\u001B[0m \u001B[0mexception_class\u001B[0m\u001B[1;33m(\u001B[0m\u001B[0mmessage\u001B[0m\u001B[1;33m,\u001B[0m \u001B[0mscreen\u001B[0m\u001B[1;33m,\u001B[0m \u001B[0mstacktrace\u001B[0m\u001B[1;33m)\u001B[0m\u001B[1;33m\u001B[0m\u001B[1;33m\u001B[0m\u001B[0m\n\u001B[0m\u001B[0;32m    248\u001B[0m \u001B[1;33m\u001B[0m\u001B[0m\n\u001B[0;32m    249\u001B[0m     \u001B[1;32mdef\u001B[0m \u001B[0m_value_or_default\u001B[0m\u001B[1;33m(\u001B[0m\u001B[0mself\u001B[0m\u001B[1;33m,\u001B[0m \u001B[0mobj\u001B[0m\u001B[1;33m:\u001B[0m \u001B[0mMapping\u001B[0m\u001B[1;33m[\u001B[0m\u001B[0m_KT\u001B[0m\u001B[1;33m,\u001B[0m \u001B[0m_VT\u001B[0m\u001B[1;33m]\u001B[0m\u001B[1;33m,\u001B[0m \u001B[0mkey\u001B[0m\u001B[1;33m:\u001B[0m \u001B[0m_KT\u001B[0m\u001B[1;33m,\u001B[0m \u001B[0mdefault\u001B[0m\u001B[1;33m:\u001B[0m \u001B[0m_VT\u001B[0m\u001B[1;33m)\u001B[0m \u001B[1;33m->\u001B[0m \u001B[0m_VT\u001B[0m\u001B[1;33m:\u001B[0m\u001B[1;33m\u001B[0m\u001B[1;33m\u001B[0m\u001B[0m\n",
      "\u001B[1;31mNoSuchElementException\u001B[0m: Message: no such element: Unable to locate element: {\"method\":\"css selector\",\"selector\":\".nba-stat-table__overflow\"}\n  (Session info: headless chrome=96.0.4664.110)\nStacktrace:\nBacktrace:\n\tOrdinal0 [0x00E86903+2517251]\n\tOrdinal0 [0x00E1F8E1+2095329]\n\tOrdinal0 [0x00D22848+1058888]\n\tOrdinal0 [0x00D4D448+1233992]\n\tOrdinal0 [0x00D4D63B+1234491]\n\tOrdinal0 [0x00D77812+1406994]\n\tOrdinal0 [0x00D6650A+1336586]\n\tOrdinal0 [0x00D75BBF+1399743]\n\tOrdinal0 [0x00D6639B+1336219]\n\tOrdinal0 [0x00D427A7+1189799]\n\tOrdinal0 [0x00D43609+1193481]\n\tGetHandleVerifier [0x01015904+1577972]\n\tGetHandleVerifier [0x010C0B97+2279047]\n\tGetHandleVerifier [0x00F16D09+534521]\n\tGetHandleVerifier [0x00F15DB9+530601]\n\tOrdinal0 [0x00E24FF9+2117625]\n\tOrdinal0 [0x00E298A8+2136232]\n\tOrdinal0 [0x00E299E2+2136546]\n\tOrdinal0 [0x00E33541+2176321]\n\tBaseThreadInitThunk [0x7592FA29+25]\n\tRtlGetAppContainerNamedObjectPath [0x77AA7A9E+286]\n\tRtlGetAppContainerNamedObjectPath [0x77AA7A6E+238]\n"
     ]
    }
   ],
   "source": [
    "# This cell may take a while to run, please be patient\n",
    "\n",
    "chrome_options = Options()\n",
    "chrome_options.add_argument(\"--headless\")\n",
    "browser = webdriver.Chrome(options=chrome_options)\n",
    "browser.delete_all_cookies()\n",
    "browser.get(\"https://www.nba.com/stats/players/traditional/?PerMode=Totals&sort=PTS&dir=-1\")\n",
    "time.sleep(5)\n",
    "# cookie's button\n",
    "button = browser.find_element(By.ID, \"onetrust-accept-btn-handler\")\n",
    "button.click()\n",
    "# get tab element\n",
    "player = browser.find_element(By.CLASS_NAME, 'nba-stat-table__overflow')\n",
    "# Traditional : GP, PTS, FG%, 3P%, FT%, REB, AST, TOV, STL, BLK\n",
    "data = []\n",
    "fLine = []\n",
    "header = player.find_elements_by_tag_name(\"th\")\n",
    "test = lambda a: a == 8 or a == 11 or a == 14 or a == 17 or a == 20 or a == 21 or a == 22 or a == 23 or a == 24\n",
    "# get all categories we need\n",
    "for i in range(len(header)):\n",
    "    if test(i):\n",
    "        fLine.append(header[i].text)\n",
    "#iterate over all players pages\n",
    "flag = 0\n",
    "while(not flag == 10):\n",
    "    time.sleep(5)\n",
    "    player1 = browser.find_element(By.CLASS_NAME, 'nba-stat-table__overflow')\n",
    "    tab = player1.find_elements_by_tag_name(\"tr\")\n",
    "    #get all the info we need\n",
    "    for i in range(1, len(tab)):\n",
    "        currLine = []\n",
    "        lines = tab[i].find_elements_by_tag_name(\"td\")\n",
    "        for j in range(len(lines)):\n",
    "            if test(j):\n",
    "                currLine.append(lines[j].text)\n",
    "        data.append(currLine)\n",
    "        #go to the next page\n",
    "    button = browser.find_element_by_class_name(\"stats-table-pagination__next\")\n",
    "    button.click()\n",
    "    flag =flag + 1\n",
    "browser.quit()\n",
    "#write into a csv file the data we scraped\n",
    "with open('player.csv', 'w', newline='') as playercsv:\n",
    "    writer = csv.writer(playercsv)\n",
    "    for line in data:\n",
    "        writer.writerow(line)\n",
    "\n"
   ]
  },
  {
   "cell_type": "markdown",
   "metadata": {},
   "source": [
    "### Team scrap"
   ]
  },
  {
   "cell_type": "markdown",
   "metadata": {},
   "source": [
    "We scraped from this page : https://www.nba.com/stats/teams/traditional/?sort=W_PCT&dir=-1"
   ]
  },
  {
   "cell_type": "markdown",
   "metadata": {},
   "source": [
    "We chose to scrap about the team :\n",
    "- the name, games played and number of wins and losses (plus win percentage)\n",
    "- the number of minute played to see if there is additionnal time (>48)\n",
    "- the number of points, the percentage of field goals, 3 points and free throw\n",
    "- the average number of rebounds, assists, turnovers, steals and blocks as they are the main actions in a game"
   ]
  },
  {
   "cell_type": "code",
   "execution_count": 29,
   "metadata": {},
   "outputs": [
    {
     "name": "stderr",
     "output_type": "stream",
     "text": [
      "C:\\Users\\Arthur\\AppData\\Local\\Temp/ipykernel_7820/552790139.py:10: DeprecationWarning: find_element_by_* commands are deprecated. Please use find_element() instead\n",
      "  cookies = browser.find_element_by_id(\"onetrust-accept-btn-handler\")\n"
     ]
    }
   ],
   "source": [
    "# Open Chrome\n",
    "browser = webdriver.Chrome()\n",
    "# Go on the teams' page on the site\n",
    "browser.get(\"https://www.nba.com/stats/teams/traditional/?sort=W_PCT&dir=-1\")\n",
    "\n",
    "# Wait for the cookies pop up to appear\n",
    "time.sleep(2)\n",
    "\n",
    "# Accept the cookies\n",
    "cookies = browser.find_element_by_id(\"onetrust-accept-btn-handler\")\n",
    "cookies.click()\n",
    "\n",
    "# Declare names as a list\n",
    "names = []\n",
    "\n",
    "# Specify where we search the data\n",
    "soup = BeautifulSoup(browser.page_source, \"html.parser\")\n",
    "soup = soup.find(\"table\")\n",
    "\n",
    "# Get all element whose class is \"first\"\n",
    "name = soup.find_all(\"td\", {\"class\": \"first\"})\n",
    "\n",
    "# For every element\n",
    "for n in name:\n",
    "    #  Add the name in the 'a' tag as a string\n",
    "    names.append(n.find(\"a\").get_text())\n",
    "\n",
    "# Declare stats as a list\n",
    "teams = []\n",
    "\n",
    "# For every team\n",
    "for i in range(len(names)):\n",
    "    # Store all the data from the team\n",
    "    l1 = soup.find_all(\"tr\", {\"index\": str(i)})\n",
    "    #Declare temporary list which will contain the data of one team\n",
    "    p = []\n",
    "    \n",
    "    # Store every element in the 'td' tag \n",
    "    for l in l1:\n",
    "        m1 = l.find_all(\"td\")\n",
    "        \n",
    "        # For each 'td' element\n",
    "        for m in m1:\n",
    "            # Add it to the team's data\n",
    "            p.append(m.get_text().strip())\n",
    "                \n",
    "    # Add all the team's data to the teams' stats list\n",
    "    teams.append(p)\n",
    "\n",
    "# Close Chrome\n",
    "browser.quit()\n",
    "\n",
    "# For each team\n",
    "for s in teams:\n",
    "    # Parse the rank to an int\n",
    "    s[0] = int(s[0])\n",
    "    # For each stat after the name\n",
    "    for i in range(2, len(s)):\n",
    "        # Parse the stat to a float\n",
    "        s[i] = float(s[i])\n",
    "        \n",
    "# Create or open a csv file\n",
    "with open('teams.csv', 'w', newline='') as mycsv:\n",
    "    writer = csv.writer(mycsv)\n",
    "    # Write the name of the data in the first line\n",
    "    writer.writerow(['Team', 'Games_Played', 'Wins', 'Loses', 'WIN%', 'MIN', 'PTS', 'FG%', '3P%', 'FT%', 'Rebounds', 'Assists', 'Turnovers', 'Steals', 'Blocks'])\n",
    "    # For each team\n",
    "    for s in teams:\n",
    "        # Store its useful data as a line in the csv file\n",
    "        writer.writerow([s[1], s[2], s[3], s[4], s[5], s[6], s[7], s[10], s[13], s[16], s[19], s[20], s[21], s[22], s[23]])\n",
    "    "
   ]
  },
  {
   "cell_type": "markdown",
   "metadata": {},
   "source": [
    "## Plot"
   ]
  },
  {
   "cell_type": "code",
   "execution_count": 4,
   "metadata": {},
   "outputs": [
    {
     "data": {
      "text/html": [
       "<div>\n",
       "<style scoped>\n",
       "    .dataframe tbody tr th:only-of-type {\n",
       "        vertical-align: middle;\n",
       "    }\n",
       "\n",
       "    .dataframe tbody tr th {\n",
       "        vertical-align: top;\n",
       "    }\n",
       "\n",
       "    .dataframe thead th {\n",
       "        text-align: right;\n",
       "    }\n",
       "</style>\n",
       "<table border=\"1\" class=\"dataframe\">\n",
       "  <thead>\n",
       "    <tr style=\"text-align: right;\">\n",
       "      <th></th>\n",
       "      <th>Height</th>\n",
       "      <th>Weight</th>\n",
       "      <th>Age</th>\n",
       "      <th>Player_Impact_Estimate</th>\n",
       "      <th>Experience</th>\n",
       "      <th>Games_Played</th>\n",
       "      <th>PTS</th>\n",
       "      <th>FG%</th>\n",
       "      <th>3P%</th>\n",
       "      <th>FT%</th>\n",
       "      <th>Rebounds</th>\n",
       "      <th>Assists</th>\n",
       "      <th>Turnovers</th>\n",
       "      <th>Steals</th>\n",
       "      <th>Blocks</th>\n",
       "    </tr>\n",
       "  </thead>\n",
       "  <tbody>\n",
       "    <tr>\n",
       "      <th>0</th>\n",
       "      <td>2.03</td>\n",
       "      <td>102</td>\n",
       "      <td>22</td>\n",
       "      <td>8.2</td>\n",
       "      <td>1</td>\n",
       "      <td>22</td>\n",
       "      <td>8.4</td>\n",
       "      <td>40.3</td>\n",
       "      <td>28.6</td>\n",
       "      <td>58.8</td>\n",
       "      <td>8.1</td>\n",
       "      <td>1.5</td>\n",
       "      <td>1.1</td>\n",
       "      <td>0.5</td>\n",
       "      <td>0.5</td>\n",
       "    </tr>\n",
       "    <tr>\n",
       "      <th>1</th>\n",
       "      <td>2.11</td>\n",
       "      <td>120</td>\n",
       "      <td>28</td>\n",
       "      <td>10.7</td>\n",
       "      <td>8</td>\n",
       "      <td>31</td>\n",
       "      <td>7.2</td>\n",
       "      <td>53.2</td>\n",
       "      <td>0.0</td>\n",
       "      <td>61.7</td>\n",
       "      <td>8.9</td>\n",
       "      <td>2.7</td>\n",
       "      <td>1.7</td>\n",
       "      <td>1.0</td>\n",
       "      <td>0.6</td>\n",
       "    </tr>\n",
       "    <tr>\n",
       "      <th>2</th>\n",
       "      <td>1.88</td>\n",
       "      <td>84</td>\n",
       "      <td>33</td>\n",
       "      <td>16.5</td>\n",
       "      <td>12</td>\n",
       "      <td>28</td>\n",
       "      <td>27.0</td>\n",
       "      <td>43.0</td>\n",
       "      <td>39.8</td>\n",
       "      <td>92.9</td>\n",
       "      <td>5.5</td>\n",
       "      <td>6.1</td>\n",
       "      <td>3.4</td>\n",
       "      <td>1.6</td>\n",
       "      <td>0.5</td>\n",
       "    </tr>\n",
       "  </tbody>\n",
       "</table>\n",
       "</div>"
      ],
      "text/plain": [
       "   Height  Weight  Age  Player_Impact_Estimate  Experience  Games_Played  \\\n",
       "0    2.03     102   22                     8.2           1            22   \n",
       "1    2.11     120   28                    10.7           8            31   \n",
       "2    1.88      84   33                    16.5          12            28   \n",
       "\n",
       "    PTS   FG%   3P%   FT%  Rebounds  Assists  Turnovers  Steals  Blocks  \n",
       "0   8.4  40.3  28.6  58.8       8.1      1.5        1.1     0.5     0.5  \n",
       "1   7.2  53.2   0.0  61.7       8.9      2.7        1.7     1.0     0.6  \n",
       "2  27.0  43.0  39.8  92.9       5.5      6.1        3.4     1.6     0.5  "
      ]
     },
     "execution_count": 4,
     "metadata": {},
     "output_type": "execute_result"
    }
   ],
   "source": [
    "# Reading of the csv player created by the scraping\n",
    "player = pd.read_csv(\"player.csv\")\n",
    "player[:10]"
   ]
  },
  {
   "cell_type": "code",
   "execution_count": 5,
   "metadata": {},
   "outputs": [
    {
     "data": {
      "text/html": [
       "<div>\n",
       "<style scoped>\n",
       "    .dataframe tbody tr th:only-of-type {\n",
       "        vertical-align: middle;\n",
       "    }\n",
       "\n",
       "    .dataframe tbody tr th {\n",
       "        vertical-align: top;\n",
       "    }\n",
       "\n",
       "    .dataframe thead th {\n",
       "        text-align: right;\n",
       "    }\n",
       "</style>\n",
       "<table border=\"1\" class=\"dataframe\">\n",
       "  <thead>\n",
       "    <tr style=\"text-align: right;\">\n",
       "      <th></th>\n",
       "      <th>Team</th>\n",
       "      <th>Games_Played</th>\n",
       "      <th>Wins</th>\n",
       "      <th>Loses</th>\n",
       "      <th>WIN%</th>\n",
       "      <th>MIN</th>\n",
       "      <th>PTS</th>\n",
       "      <th>FG%</th>\n",
       "      <th>3P%</th>\n",
       "      <th>FT%</th>\n",
       "      <th>Rebounds</th>\n",
       "      <th>Assists</th>\n",
       "      <th>Turnovers</th>\n",
       "      <th>Steals</th>\n",
       "      <th>Blocks</th>\n",
       "    </tr>\n",
       "  </thead>\n",
       "  <tbody>\n",
       "    <tr>\n",
       "      <th>0</th>\n",
       "      <td>Phoenix Suns</td>\n",
       "      <td>29.0</td>\n",
       "      <td>24.0</td>\n",
       "      <td>5.0</td>\n",
       "      <td>0.828</td>\n",
       "      <td>48.2</td>\n",
       "      <td>111.9</td>\n",
       "      <td>47.8</td>\n",
       "      <td>36.8</td>\n",
       "      <td>78.8</td>\n",
       "      <td>45.8</td>\n",
       "      <td>26.3</td>\n",
       "      <td>14.0</td>\n",
       "      <td>8.6</td>\n",
       "      <td>4.1</td>\n",
       "    </tr>\n",
       "    <tr>\n",
       "      <th>1</th>\n",
       "      <td>Golden State Warriors</td>\n",
       "      <td>30.0</td>\n",
       "      <td>24.0</td>\n",
       "      <td>6.0</td>\n",
       "      <td>0.800</td>\n",
       "      <td>48.2</td>\n",
       "      <td>111.4</td>\n",
       "      <td>46.9</td>\n",
       "      <td>36.2</td>\n",
       "      <td>75.6</td>\n",
       "      <td>46.9</td>\n",
       "      <td>28.0</td>\n",
       "      <td>16.1</td>\n",
       "      <td>9.2</td>\n",
       "      <td>4.9</td>\n",
       "    </tr>\n",
       "    <tr>\n",
       "      <th>2</th>\n",
       "      <td>Brooklyn Nets</td>\n",
       "      <td>30.0</td>\n",
       "      <td>21.0</td>\n",
       "      <td>9.0</td>\n",
       "      <td>0.700</td>\n",
       "      <td>48.2</td>\n",
       "      <td>109.7</td>\n",
       "      <td>46.4</td>\n",
       "      <td>35.3</td>\n",
       "      <td>81.6</td>\n",
       "      <td>45.5</td>\n",
       "      <td>25.3</td>\n",
       "      <td>14.2</td>\n",
       "      <td>6.8</td>\n",
       "      <td>5.3</td>\n",
       "    </tr>\n",
       "    <tr>\n",
       "      <th>3</th>\n",
       "      <td>Utah Jazz</td>\n",
       "      <td>29.0</td>\n",
       "      <td>20.0</td>\n",
       "      <td>9.0</td>\n",
       "      <td>0.690</td>\n",
       "      <td>48.0</td>\n",
       "      <td>115.6</td>\n",
       "      <td>48.1</td>\n",
       "      <td>37.1</td>\n",
       "      <td>77.4</td>\n",
       "      <td>46.7</td>\n",
       "      <td>22.7</td>\n",
       "      <td>14.6</td>\n",
       "      <td>7.2</td>\n",
       "      <td>5.3</td>\n",
       "    </tr>\n",
       "    <tr>\n",
       "      <th>4</th>\n",
       "      <td>Chicago Bulls</td>\n",
       "      <td>28.0</td>\n",
       "      <td>18.0</td>\n",
       "      <td>10.0</td>\n",
       "      <td>0.643</td>\n",
       "      <td>48.0</td>\n",
       "      <td>108.5</td>\n",
       "      <td>46.4</td>\n",
       "      <td>36.7</td>\n",
       "      <td>81.4</td>\n",
       "      <td>43.2</td>\n",
       "      <td>23.1</td>\n",
       "      <td>13.4</td>\n",
       "      <td>7.9</td>\n",
       "      <td>4.6</td>\n",
       "    </tr>\n",
       "    <tr>\n",
       "      <th>5</th>\n",
       "      <td>Cleveland Cavaliers</td>\n",
       "      <td>31.0</td>\n",
       "      <td>19.0</td>\n",
       "      <td>12.0</td>\n",
       "      <td>0.613</td>\n",
       "      <td>48.0</td>\n",
       "      <td>107.0</td>\n",
       "      <td>46.3</td>\n",
       "      <td>36.0</td>\n",
       "      <td>79.2</td>\n",
       "      <td>45.0</td>\n",
       "      <td>25.3</td>\n",
       "      <td>15.7</td>\n",
       "      <td>7.6</td>\n",
       "      <td>4.4</td>\n",
       "    </tr>\n",
       "    <tr>\n",
       "      <th>6</th>\n",
       "      <td>Memphis Grizzlies</td>\n",
       "      <td>31.0</td>\n",
       "      <td>19.0</td>\n",
       "      <td>12.0</td>\n",
       "      <td>0.613</td>\n",
       "      <td>48.3</td>\n",
       "      <td>111.1</td>\n",
       "      <td>45.3</td>\n",
       "      <td>34.8</td>\n",
       "      <td>75.1</td>\n",
       "      <td>47.1</td>\n",
       "      <td>25.3</td>\n",
       "      <td>13.6</td>\n",
       "      <td>10.4</td>\n",
       "      <td>5.9</td>\n",
       "    </tr>\n",
       "    <tr>\n",
       "      <th>7</th>\n",
       "      <td>Milwaukee Bucks</td>\n",
       "      <td>32.0</td>\n",
       "      <td>19.0</td>\n",
       "      <td>13.0</td>\n",
       "      <td>0.594</td>\n",
       "      <td>48.3</td>\n",
       "      <td>110.0</td>\n",
       "      <td>45.2</td>\n",
       "      <td>35.9</td>\n",
       "      <td>75.2</td>\n",
       "      <td>47.1</td>\n",
       "      <td>22.5</td>\n",
       "      <td>14.4</td>\n",
       "      <td>7.8</td>\n",
       "      <td>4.4</td>\n",
       "    </tr>\n",
       "    <tr>\n",
       "      <th>8</th>\n",
       "      <td>Miami Heat</td>\n",
       "      <td>31.0</td>\n",
       "      <td>18.0</td>\n",
       "      <td>13.0</td>\n",
       "      <td>0.581</td>\n",
       "      <td>48.3</td>\n",
       "      <td>106.6</td>\n",
       "      <td>46.0</td>\n",
       "      <td>36.5</td>\n",
       "      <td>78.8</td>\n",
       "      <td>44.0</td>\n",
       "      <td>25.2</td>\n",
       "      <td>15.0</td>\n",
       "      <td>7.1</td>\n",
       "      <td>3.1</td>\n",
       "    </tr>\n",
       "    <tr>\n",
       "      <th>9</th>\n",
       "      <td>LA Clippers</td>\n",
       "      <td>30.0</td>\n",
       "      <td>16.0</td>\n",
       "      <td>14.0</td>\n",
       "      <td>0.533</td>\n",
       "      <td>48.2</td>\n",
       "      <td>106.0</td>\n",
       "      <td>45.1</td>\n",
       "      <td>36.2</td>\n",
       "      <td>78.3</td>\n",
       "      <td>44.0</td>\n",
       "      <td>23.1</td>\n",
       "      <td>14.9</td>\n",
       "      <td>8.0</td>\n",
       "      <td>4.4</td>\n",
       "    </tr>\n",
       "  </tbody>\n",
       "</table>\n",
       "</div>"
      ],
      "text/plain": [
       "                    Team  Games_Played  Wins  Loses   WIN%   MIN    PTS   FG%  \\\n",
       "0           Phoenix Suns          29.0  24.0    5.0  0.828  48.2  111.9  47.8   \n",
       "1  Golden State Warriors          30.0  24.0    6.0  0.800  48.2  111.4  46.9   \n",
       "2          Brooklyn Nets          30.0  21.0    9.0  0.700  48.2  109.7  46.4   \n",
       "3              Utah Jazz          29.0  20.0    9.0  0.690  48.0  115.6  48.1   \n",
       "4          Chicago Bulls          28.0  18.0   10.0  0.643  48.0  108.5  46.4   \n",
       "5    Cleveland Cavaliers          31.0  19.0   12.0  0.613  48.0  107.0  46.3   \n",
       "6      Memphis Grizzlies          31.0  19.0   12.0  0.613  48.3  111.1  45.3   \n",
       "7        Milwaukee Bucks          32.0  19.0   13.0  0.594  48.3  110.0  45.2   \n",
       "8             Miami Heat          31.0  18.0   13.0  0.581  48.3  106.6  46.0   \n",
       "9            LA Clippers          30.0  16.0   14.0  0.533  48.2  106.0  45.1   \n",
       "\n",
       "    3P%   FT%  Rebounds  Assists  Turnovers  Steals  Blocks  \n",
       "0  36.8  78.8      45.8     26.3       14.0     8.6     4.1  \n",
       "1  36.2  75.6      46.9     28.0       16.1     9.2     4.9  \n",
       "2  35.3  81.6      45.5     25.3       14.2     6.8     5.3  \n",
       "3  37.1  77.4      46.7     22.7       14.6     7.2     5.3  \n",
       "4  36.7  81.4      43.2     23.1       13.4     7.9     4.6  \n",
       "5  36.0  79.2      45.0     25.3       15.7     7.6     4.4  \n",
       "6  34.8  75.1      47.1     25.3       13.6    10.4     5.9  \n",
       "7  35.9  75.2      47.1     22.5       14.4     7.8     4.4  \n",
       "8  36.5  78.8      44.0     25.2       15.0     7.1     3.1  \n",
       "9  36.2  78.3      44.0     23.1       14.9     8.0     4.4  "
      ]
     },
     "execution_count": 5,
     "metadata": {},
     "output_type": "execute_result"
    }
   ],
   "source": [
    "# Reading of the csv teams created by the scraping\n",
    "team = pd.read_csv(\"teams.csv\")\n",
    "team[:10]"
   ]
  },
  {
   "cell_type": "markdown",
   "metadata": {},
   "source": [
    "### Plot 1 : boxplot"
   ]
  },
  {
   "cell_type": "markdown",
   "metadata": {},
   "source": [
    "We want to see if the more a player plays, the more he scores."
   ]
  },
  {
   "cell_type": "code",
   "execution_count": null,
   "metadata": {},
   "outputs": [
    {
     "data": {
      "text/plain": [
       "<AxesSubplot:xlabel='Games_Played', ylabel='3P%'>"
      ]
     },
     "execution_count": 6,
     "metadata": {},
     "output_type": "execute_result"
    }
   ],
   "source": [
    "sns.boxplot(y='3P%', x='Games_Played', data=player, palette=\"colorblind\")"
   ]
  },
  {
   "cell_type": "markdown",
   "metadata": {},
   "source": [
    "Here we can see that"
   ]
  },
  {
   "cell_type": "markdown",
   "metadata": {},
   "source": [
    "### Plot 2 : lineplot"
   ]
  },
  {
   "cell_type": "markdown",
   "metadata": {},
   "source": [
    "We plot here the number of points scored in a game in function of the win percentage. We wanted to know if there were a correlation between the number of points and the percentage of games won."
   ]
  },
  {
   "cell_type": "code",
   "execution_count": 11,
   "metadata": {},
   "outputs": [
    {
     "data": {
      "image/png": "[encoded data removed]",
      "text/plain": [
       "<Figure size 432x288 with 1 Axes>"
      ]
     },
     "metadata": {
      "needs_background": "light"
     },
     "output_type": "display_data"
    }
   ],
   "source": [
    "fig = team.plot(x=\"WIN%\", y=\"PTS\", c=\"Purple\")\n",
    "plt.xlabel('Win percentage')\n",
    "plt.ylabel('number of points')\n",
    "plt.show()"
   ]
  },
  {
   "cell_type": "code",
   "execution_count": 13,
   "metadata": {},
   "outputs": [
    {
     "name": "stdout",
     "output_type": "stream",
     "text": [
      "pearson coefficient:\n",
      " [[1.         0.65737736]\n",
      " [0.65737736 1.        ]]\n"
     ]
    }
   ],
   "source": [
    "win = np.array(team[['WIN%']])\n",
    "point = np.array(team[['PTS']])\n",
    "win_reduce = []\n",
    "point_reduce = []\n",
    "for i in range (len(win)):\n",
    "    win_reduce.append(float(win[[i][0]]))\n",
    "for i in range (len(point)):\n",
    "    point_reduce.append(float(point[[i][0]]))\n",
    "print(\"pearson coefficient:\\n\",np.corrcoef(win_reduce, point_reduce))"
   ]
  },
  {
   "cell_type": "markdown",
   "metadata": {},
   "source": [
    "We can see that they are correlated with a Pearson's correlation of 0,66. So the more the team scores the more she has the possibility to win."
   ]
  },
  {
   "cell_type": "markdown",
   "metadata": {},
   "source": [
    "### Plot 3 : histogram"
   ]
  },
  {
   "cell_type": "markdown",
   "metadata": {},
   "source": [
    "We plot here the number of turnovers by each team in order to see if they are following a distribution. "
   ]
  },
  {
   "cell_type": "code",
   "execution_count": 9,
   "metadata": {},
   "outputs": [
    {
     "data": {
      "image/png": "[encoded data removed]",
      "text/plain": [
       "<Figure size 432x288 with 1 Axes>"
      ]
     },
     "metadata": {
      "needs_background": "light"
     },
     "output_type": "display_data"
    }
   ],
   "source": [
    "x = team['Turnovers']\n",
    "\n",
    "fig = plt.hist(x,color = 'pink',\n",
    "            edgecolor = 'black')\n",
    "plt.xlabel('nb of turnovers')\n",
    "plt.ylabel('number')\n",
    "plt.show()"
   ]
  },
  {
   "cell_type": "markdown",
   "metadata": {},
   "source": [
    "We can see that it could be approximated by a normal distribution."
   ]
  },
  {
   "cell_type": "markdown",
   "metadata": {},
   "source": [
    "### Plot 4 : Scattered plot "
   ]
  },
  {
   "cell_type": "markdown",
   "metadata": {},
   "source": [
    "We wanted to know if decissive passes (assists) are correlated to the stealing of the ball."
   ]
  },
  {
   "cell_type": "code",
   "execution_count": null,
   "metadata": {},
   "outputs": [],
   "source": [
    "fig = player.plot.scatter(x=\"Assists\", y=\"Steals\", c=\"Purple\")"
   ]
  },
  {
   "cell_type": "markdown",
   "metadata": {},
   "source": [
    "Here we can se that the values seem to be correlated"
   ]
  },
  {
   "cell_type": "markdown",
   "metadata": {},
   "source": [
    "### Plot 5 : Correlation's heatmap"
   ]
  },
  {
   "cell_type": "markdown",
   "metadata": {},
   "source": [
    "As the 2 values of plot 4 seem to be correlated, we are gonna check if they really are and show the Pearson's correlation of the different values of a player."
   ]
  },
  {
   "cell_type": "code",
   "execution_count": 38,
   "metadata": {},
   "outputs": [
    {
     "data": {
      "image/png": "[encoded data removed]",
      "text/plain": [
       "<Figure size 1152x432 with 2 Axes>"
      ]
     },
     "metadata": {
      "needs_background": "light"
     },
     "output_type": "display_data"
    }
   ],
   "source": [
    "# Increase the size of the heatmap\n",
    "plt.figure(figsize=(16, 6))\n",
    "\n",
    "# Store heatmap object in a variable to easily access it when you want to include more features (such as title)\n",
    "# Set the range of values to be displayed on the colormap from -1 to 1, and set the annotation to True to display the correlation values on the heatmap\n",
    "heatmap = sns.heatmap(player.corr(method ='pearson'), vmin=-1, vmax=1, annot=True)\n",
    "\n",
    "# Give a title to the heatmap. Pad defines the distance of the title from the top of the heatmap\n",
    "heatmap.set_title('Correlation Heatmap', fontdict={'fontsize':12}, pad=12);"
   ]
  },
  {
   "cell_type": "markdown",
   "metadata": {},
   "source": [
    "Here we see that assists and steals are correlated."
   ]
  },
  {
   "cell_type": "markdown",
   "metadata": {},
   "source": [
    "## Prediction"
   ]
  },
  {
   "cell_type": "markdown",
   "metadata": {},
   "source": [
    "As our values are correlated we can predict the assists of a player from a given steals."
   ]
  },
  {
   "cell_type": "markdown",
   "metadata": {},
   "source": [
    "#### We convert our pandas dataframe to a numpy array to do a prediction."
   ]
  },
  {
   "cell_type": "code",
   "execution_count": 48,
   "metadata": {},
   "outputs": [
    {
     "name": "stdout",
     "output_type": "stream",
     "text": [
      "[[  2.03 102.    22.     8.2    1.    22.     8.4   40.3   28.6   58.8\n",
      "    8.1    1.5    1.1    0.5    0.5 ]\n",
      " [  2.11 120.    28.    10.7    8.    31.     7.2   53.2    0.    61.7\n",
      "    8.9    2.7    1.7    1.     0.6 ]\n",
      " [  1.88  84.    33.    16.5   12.    28.    27.    43.    39.8   92.9\n",
      "    5.5    6.1    3.4    1.6    0.5 ]]\n"
     ]
    }
   ],
   "source": [
    "data_player=player.to_numpy()\n",
    "print(data_player)"
   ]
  },
  {
   "cell_type": "markdown",
   "metadata": {},
   "source": [
    "#### We create a polynomial regression model to estimate the assists in function of steals."
   ]
  },
  {
   "cell_type": "code",
   "execution_count": 51,
   "metadata": {},
   "outputs": [
    {
     "data": {
      "image/png": "[encoded data removed]",
      "text/plain": [
       "<Figure size 432x288 with 1 Axes>"
      ]
     },
     "metadata": {
      "needs_background": "light"
     },
     "output_type": "display_data"
    }
   ],
   "source": [
    "myReg = linear_model.LinearRegression()\n",
    "\n",
    "X = data_player[:,6] # assists\n",
    "X=X.reshape(-1,1)   \n",
    "Y = data_player[:,8] # steals\n",
    "\n",
    "poly =  make_pipeline(PolynomialFeatures(degree=2), Ridge())\n",
    "\n",
    "poly.fit(X, Y)\n",
    "\n",
    "Y_pred2 = poly.predict(X)\n",
    "\n",
    "plt.scatter(X, Y,  color='grey')\n",
    "plt.scatter(X, Y_pred2, color='green', linewidth=3)\n",
    "\n",
    "plt.show()"
   ]
  },
  {
   "cell_type": "markdown",
   "metadata": {},
   "source": [
    "#### We train our model."
   ]
  },
  {
   "cell_type": "code",
   "execution_count": 50,
   "metadata": {},
   "outputs": [
    {
     "data": {
      "text/plain": [
       "LinearRegression()"
      ]
     },
     "execution_count": 50,
     "metadata": {},
     "output_type": "execute_result"
    }
   ],
   "source": [
    "myReg.fit(X,Y)   "
   ]
  },
  {
   "cell_type": "markdown",
   "metadata": {},
   "source": [
    "#### We predict the assists of a player that had 0.5 of average steals."
   ]
  },
  {
   "cell_type": "code",
   "execution_count": 52,
   "metadata": {},
   "outputs": [
    {
     "data": {
      "text/plain": [
       "array([49.19422981])"
      ]
     },
     "execution_count": 52,
     "metadata": {},
     "output_type": "execute_result"
    }
   ],
   "source": [
    "poly.predict([[0.5]])"
   ]
  },
  {
   "cell_type": "markdown",
   "metadata": {},
   "source": [
    "## Drawbacks and difficulties"
   ]
  },
  {
   "cell_type": "markdown",
   "metadata": {},
   "source": [
    "Drawbacks in your program and issues that can be upgraded, tasks that can be added to it\n",
    "\n",
    "Difficulties encountered while doing the project"
   ]
  },
  {
   "cell_type": "markdown",
   "metadata": {},
   "source": [
    "### Drawbacks"
   ]
  },
  {
   "cell_type": "markdown",
   "metadata": {},
   "source": [
    "We could have used more of the values we thought were important but we didn't find wich plot was the most adpated to do so."
   ]
  },
  {
   "cell_type": "markdown",
   "metadata": {},
   "source": [
    "### Difficulties"
   ]
  },
  {
   "cell_type": "markdown",
   "metadata": {},
   "source": [
    "As there was no specific id or class for the values in the different table it was really complicated to scrap.\n",
    "\n",
    "For example we wanted to scrap :\n",
    "- the height, weight and height of a player\n",
    "- the Player Impact Estimate as it show how important can a player be in a game\n",
    "- the experience to know if a experimented player is better\n",
    "\n",
    "But in the end it was too difficult to get the values and scrap them."
   ]
  },
  {
   "cell_type": "code",
   "execution_count": null,
   "metadata": {},
   "outputs": [],
   "source": []
  }
 ],
 "metadata": {
  "kernelspec": {
   "display_name": "Python 3 (ipykernel)",
   "language": "python",
   "name": "python3"
  },
  "language_info": {
   "codemirror_mode": {
    "name": "ipython",
    "version": 3
   },
   "file_extension": ".py",
   "mimetype": "text/x-python",
   "name": "python",
   "nbconvert_exporter": "python",
   "pygments_lexer": "ipython3",
   "version": "3.8.12"
  }
 },
 "nbformat": 4,
 "nbformat_minor": 2
}