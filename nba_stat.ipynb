{
 "cells": [
  {
   "cell_type": "markdown",
   "metadata": {},
   "source": [
    "<h1 class=\"text-center\">NBA Stat</h1>"
   ]
  },
  {
   "cell_type": "markdown",
   "metadata": {},
   "source": [
    "## Sommaire des fonctionnalités"
   ]
  },
  {
   "cell_type": "markdown",
   "metadata": {},
   "source": []
  },
  {
   "cell_type": "markdown",
   "metadata": {},
   "source": [
    "Pour scrap, ce qui est scrappé pourquoi et comment"
   ]
  },
  {
   "cell_type": "markdown",
   "metadata": {},
   "source": [
    "## Library"
   ]
  },
  {
   "cell_type": "code",
   "execution_count": 2,
   "metadata": {},
   "outputs": [],
   "source": [
    "import numpy as np\n",
    "import matplotlib.pyplot as plt\n",
    "from sklearn import linear_model\n",
    "from sklearn.preprocessing import PolynomialFeatures\n",
    "from sklearn.pipeline import make_pipeline\n",
    "from sklearn.linear_model import Ridge"
   ]
  },
  {
   "cell_type": "markdown",
   "metadata": {},
   "source": [
    "## Scraping"
   ]
  },
  {
   "cell_type": "markdown",
   "metadata": {},
   "source": [
    "### Player scrap"
   ]
  },
  {
   "cell_type": "code",
   "execution_count": null,
   "metadata": {},
   "outputs": [],
   "source": []
  },
  {
   "cell_type": "markdown",
   "metadata": {},
   "source": [
    "### Team scrap"
   ]
  },
  {
   "cell_type": "code",
   "execution_count": null,
   "metadata": {},
   "outputs": [
    {
     "name": "stderr",
     "output_type": "stream",
     "text": [
      "C:\\Users\\Arthur\\AppData\\Local\\Temp/ipykernel_17640/3970210774.py:10: DeprecationWarning: find_element_by_* commands are deprecated. Please use find_element() instead\n",
      "  cookies = browser.find_element_by_id(\"onetrust-accept-btn-handler\")\n"
     ]
    },
    {
     "name": "stdout",
     "output_type": "stream",
     "text": [
      "['Phoenix Suns', 'Golden State Warriors', 'Brooklyn Nets', 'Utah Jazz', 'Chicago Bulls', 'Cleveland Cavaliers', 'Memphis Grizzlies', 'Milwaukee Bucks', 'Miami Heat', 'LA Clippers', 'Denver Nuggets', 'Los Angeles Lakers', 'Washington Wizards', 'Boston Celtics', 'Charlotte Hornets', 'Minnesota Timberwolves', 'Philadelphia 76ers', 'Atlanta Hawks', 'Dallas Mavericks', 'Toronto Raptors', 'New York Knicks', 'Indiana Pacers', 'Portland Trail Blazers', 'Sacramento Kings', 'San Antonio Spurs', 'Houston Rockets', 'New Orleans Pelicans', 'Oklahoma City Thunder', 'Orlando Magic', 'Detroit Pistons', 'Phoenix Suns', 'Golden State Warriors', 'Brooklyn Nets', 'Utah Jazz', 'Chicago Bulls', 'Cleveland Cavaliers', 'Memphis Grizzlies', 'Milwaukee Bucks', 'Miami Heat', 'LA Clippers', 'Denver Nuggets', 'Los Angeles Lakers', 'Washington Wizards', 'Boston Celtics', 'Charlotte Hornets', 'Minnesota Timberwolves', 'Philadelphia 76ers', 'Atlanta Hawks', 'Dallas Mavericks', 'Toronto Raptors', 'New York Knicks', 'Indiana Pacers', 'Portland Trail Blazers', 'Sacramento Kings', 'San Antonio Spurs', 'Houston Rockets', 'New Orleans Pelicans', 'Oklahoma City Thunder', 'Orlando Magic', 'Detroit Pistons']\n"
     ]
    }
   ],
   "source": [
    "from selenium import webdriver\n",
    "from bs4 import BeautifulSoup\n",
    "import time\n",
    "\n",
    "browser = webdriver.Chrome()\n",
    "browser.get(\"https://www.nba.com/stats/teams/traditional/?sort=W_PCT&dir=-1\")\n",
    "\n",
    "time.sleep(2)\n",
    "\n",
    "cookies = browser.find_element_by_id(\"onetrust-accept-btn-handler\")\n",
    "cookies.click()\n",
    "\n",
    "names = []\n",
    "\n",
    "soup = BeautifulSoup(browser.page_source, \"html.parser\")\n",
    "name = soup.find_all(\"td\", {\"class\": \"first\"})\n",
    "\n",
    "for n in name:\n",
    "    names.append(n.find(\"a\").get_text())\n",
    "\n",
    "print(names)\n",
    "\n",
    "browser.quit()"
   ]
  },
  {
   "cell_type": "markdown",
   "metadata": {},
   "source": [
    "## Plot"
   ]
  },
  {
   "cell_type": "markdown",
   "metadata": {},
   "source": [
    "Explaining the choices of figures that your program can plot and the new insights that can be derived"
   ]
  },
  {
   "cell_type": "code",
   "execution_count": null,
   "metadata": {},
   "outputs": [],
   "source": [
    "# Lecture des csv créés par le scrapping\n",
    "player = open(\"player.csv\")\n",
    "team = open(\"team.csv\")"
   ]
  },
  {
   "cell_type": "markdown",
   "metadata": {},
   "source": [
    "### Plot 1 : boxplot..."
   ]
  },
  {
   "cell_type": "markdown",
   "metadata": {},
   "source": [
    "Il a été choisi d'afficher... car..."
   ]
  },
  {
   "cell_type": "code",
   "execution_count": null,
   "metadata": {},
   "outputs": [],
   "source": []
  },
  {
   "cell_type": "code",
   "execution_count": null,
   "metadata": {},
   "outputs": [],
   "source": []
  },
  {
   "cell_type": "code",
   "execution_count": null,
   "metadata": {},
   "outputs": [],
   "source": []
  },
  {
   "cell_type": "code",
   "execution_count": null,
   "metadata": {},
   "outputs": [],
   "source": []
  },
  {
   "cell_type": "markdown",
   "metadata": {},
   "source": [
    "### Plot 4 : Scattered de taille / fg ou 3p "
   ]
  },
  {
   "cell_type": "markdown",
   "metadata": {},
   "source": [
    "Il a été choisi..."
   ]
  },
  {
   "cell_type": "code",
   "execution_count": null,
   "metadata": {},
   "outputs": [],
   "source": []
  },
  {
   "cell_type": "markdown",
   "metadata": {},
   "source": [
    "### Plot 5 : Correlation en heat"
   ]
  },
  {
   "cell_type": "markdown",
   "metadata": {},
   "source": [
    "On vérifie..."
   ]
  },
  {
   "cell_type": "code",
   "execution_count": null,
   "metadata": {},
   "outputs": [],
   "source": []
  },
  {
   "cell_type": "markdown",
   "metadata": {},
   "source": [
    "## Prediction"
   ]
  },
  {
   "cell_type": "markdown",
   "metadata": {},
   "source": [
    "Comme les val sont corrélés..."
   ]
  },
  {
   "cell_type": "markdown",
   "metadata": {},
   "source": [
    "#### On crée une regression du model"
   ]
  },
  {
   "cell_type": "code",
   "execution_count": null,
   "metadata": {},
   "outputs": [],
   "source": [
    "myReg = linear_model.LinearRegression()\n",
    "\n",
    "X = data[:,0]\n",
    "X=X.reshape(-1,1)   \n",
    "Y = data[:,2]\n",
    "\n",
    "poly =  make_pipeline(PolynomialFeatures(degree=2), Ridge())\n",
    "\n",
    "poly.fit(X, Y)\n",
    "\n",
    "Y_pred2 = poly.predict(X)\n",
    "\n",
    "plt.scatter(X, Y,  color='grey')\n",
    "plt.scatter(X, Y_pred2, color='green', linewidth=3)\n",
    "\n",
    "plt.show()"
   ]
  },
  {
   "cell_type": "markdown",
   "metadata": {},
   "source": [
    "#### On entraine le model"
   ]
  },
  {
   "cell_type": "code",
   "execution_count": null,
   "metadata": {},
   "outputs": [],
   "source": [
    "myReg.fit(X,Y)   "
   ]
  },
  {
   "cell_type": "markdown",
   "metadata": {},
   "source": [
    "#### On prédit ... avec un ... à 2017"
   ]
  },
  {
   "cell_type": "code",
   "execution_count": null,
   "metadata": {},
   "outputs": [],
   "source": [
    "poly.predict([[2017]])"
   ]
  },
  {
   "cell_type": "code",
   "execution_count": null,
   "metadata": {},
   "outputs": [],
   "source": []
  },
  {
   "cell_type": "markdown",
   "metadata": {},
   "source": [
    "Drawbacks in your program and issues that can be upgraded, tasks that can be added to it\n",
    "\n",
    "Difficulties encountered while doing the project"
   ]
  },
  {
   "cell_type": "code",
   "execution_count": null,
   "metadata": {},
   "outputs": [],
   "source": []
  },
  {
   "cell_type": "code",
   "execution_count": null,
   "metadata": {},
   "outputs": [],
   "source": []
  }
 ],
 "metadata": {
  "kernelspec": {
   "display_name": "Python 3 (ipykernel)",
   "language": "python",
   "name": "python3"
  },
  "language_info": {
   "codemirror_mode": {
    "name": "ipython",
    "version": 3
   },
   "file_extension": ".py",
   "mimetype": "text/x-python",
   "name": "python",
   "nbconvert_exporter": "python",
   "pygments_lexer": "ipython3",
   "version": "3.8.12"
  }
 },
 "nbformat": 4,
 "nbformat_minor": 2
}
